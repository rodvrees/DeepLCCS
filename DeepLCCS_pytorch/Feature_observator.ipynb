{
 "cells": [
  {
   "cell_type": "code",
   "execution_count": 2,
   "metadata": {},
   "outputs": [],
   "source": [
    "import pickle"
   ]
  },
  {
   "cell_type": "markdown",
   "metadata": {},
   "source": [
    "# Atomic Composition"
   ]
  },
  {
   "cell_type": "code",
   "execution_count": 7,
   "metadata": {},
   "outputs": [],
   "source": [
    "AtomEnc = pickle.load(open('/home/robbe/DeepLCCS/data_clean/X_train_AtomEnc-DeepLC-correct-set.pickle', 'rb'))"
   ]
  },
  {
   "cell_type": "code",
   "execution_count": 8,
   "metadata": {},
   "outputs": [
    {
     "data": {
      "text/plain": [
       "(533669, 60, 6)"
      ]
     },
     "execution_count": 8,
     "metadata": {},
     "output_type": "execute_result"
    }
   ],
   "source": [
    "AtomEnc.shape"
   ]
  },
  {
   "cell_type": "code",
   "execution_count": 9,
   "metadata": {},
   "outputs": [
    {
     "data": {
      "text/plain": [
       "array([[ 3.,  5.,  1.,  1.,  0.,  0.],\n",
       "       [ 3.,  5.,  1.,  1.,  0.,  0.],\n",
       "       [ 3.,  5.,  1.,  1.,  0.,  0.],\n",
       "       [ 3.,  5.,  1.,  1.,  0.,  0.],\n",
       "       [ 3.,  5.,  1.,  1.,  0.,  0.],\n",
       "       [ 3.,  5.,  1.,  1.,  0.,  0.],\n",
       "       [ 3.,  5.,  1.,  1.,  0.,  0.],\n",
       "       [ 2.,  3.,  1.,  1.,  0.,  0.],\n",
       "       [ 3.,  5.,  1.,  1.,  0.,  0.],\n",
       "       [ 3.,  5.,  1.,  1.,  0.,  0.],\n",
       "       [ 2.,  3.,  1.,  1.,  0.,  0.],\n",
       "       [ 3.,  5.,  1.,  2.,  0.,  0.],\n",
       "       [ 3.,  5.,  1.,  1.,  0.,  0.],\n",
       "       [ 3.,  5.,  1.,  1.,  0.,  0.],\n",
       "       [ 5.,  7.,  1.,  1.,  0.,  0.],\n",
       "       [ 3.,  5.,  1.,  1.,  0.,  0.],\n",
       "       [ 3.,  5.,  1.,  1.,  0.,  0.],\n",
       "       [ 3.,  5.,  1.,  1.,  0.,  0.],\n",
       "       [ 3.,  5.,  1.,  1.,  0.,  0.],\n",
       "       [ 2.,  3.,  1.,  1.,  0.,  0.],\n",
       "       [ 3.,  5.,  1.,  1.,  0.,  0.],\n",
       "       [ 5.,  7.,  1.,  1.,  0.,  0.],\n",
       "       [ 2.,  3.,  1.,  1.,  0.,  0.],\n",
       "       [ 3.,  5.,  1.,  2.,  0.,  0.],\n",
       "       [ 2.,  3.,  1.,  1.,  0.,  0.],\n",
       "       [ 2.,  3.,  1.,  1.,  0.,  0.],\n",
       "       [ 3.,  5.,  1.,  1.,  0.,  0.],\n",
       "       [ 5.,  7.,  1.,  1.,  0.,  0.],\n",
       "       [ 3.,  5.,  1.,  2.,  0.,  0.],\n",
       "       [ 2.,  3.,  1.,  1.,  0.,  0.],\n",
       "       [ 3.,  5.,  1.,  2.,  0.,  0.],\n",
       "       [ 5.,  8.,  2.,  2.,  0.,  0.],\n",
       "       [ 2.,  3.,  1.,  1.,  0.,  0.],\n",
       "       [ 5.,  9.,  1.,  1.,  0.,  0.],\n",
       "       [ 6., 11.,  1.,  1.,  0.,  0.],\n",
       "       [ 6., 11.,  1.,  1.,  0.,  0.],\n",
       "       [ 2.,  3.,  1.,  1.,  0.,  0.],\n",
       "       [ 4.,  5.,  1.,  3.,  0.,  0.],\n",
       "       [ 6., 12.,  4.,  1.,  0.,  0.],\n",
       "       [ 0.,  0.,  0.,  0.,  0.,  0.],\n",
       "       [ 0.,  0.,  0.,  0.,  0.,  0.],\n",
       "       [ 0.,  0.,  0.,  0.,  0.,  0.],\n",
       "       [ 0.,  0.,  0.,  0.,  0.,  0.],\n",
       "       [ 0.,  0.,  0.,  0.,  0.,  0.],\n",
       "       [ 0.,  0.,  0.,  0.,  0.,  0.],\n",
       "       [ 0.,  0.,  0.,  0.,  0.,  0.],\n",
       "       [ 0.,  0.,  0.,  0.,  0.,  0.],\n",
       "       [ 0.,  0.,  0.,  0.,  0.,  0.],\n",
       "       [ 0.,  0.,  0.,  0.,  0.,  0.],\n",
       "       [ 0.,  0.,  0.,  0.,  0.,  0.],\n",
       "       [ 0.,  0.,  0.,  0.,  0.,  0.],\n",
       "       [ 0.,  0.,  0.,  0.,  0.,  0.],\n",
       "       [ 0.,  0.,  0.,  0.,  0.,  0.],\n",
       "       [ 0.,  0.,  0.,  0.,  0.,  0.],\n",
       "       [ 0.,  0.,  0.,  0.,  0.,  0.],\n",
       "       [ 0.,  0.,  0.,  0.,  0.,  0.],\n",
       "       [ 0.,  0.,  0.,  0.,  0.,  0.],\n",
       "       [ 0.,  0.,  0.,  0.,  0.,  0.],\n",
       "       [ 0.,  0.,  0.,  0.,  0.,  0.],\n",
       "       [ 0.,  0.,  0.,  0.,  0.,  0.]], dtype=float16)"
      ]
     },
     "execution_count": 9,
     "metadata": {},
     "output_type": "execute_result"
    }
   ],
   "source": [
    "# 1st peptide, all AA, all features\n",
    "AtomEnc[1,:,:]"
   ]
  },
  {
   "cell_type": "code",
   "execution_count": 8,
   "metadata": {},
   "outputs": [],
   "source": [
    "# Atomic composition dipeptide\n",
    "AtomEncDi = pickle.load(open('/home/robbe/DeepLCCS/data_clean/X_train_DiAminoAtomEnc-DeepLC-correct-set.pickle', 'rb'))"
   ]
  },
  {
   "cell_type": "code",
   "execution_count": 9,
   "metadata": {},
   "outputs": [
    {
     "data": {
      "text/plain": [
       "(533669, 30, 6)"
      ]
     },
     "execution_count": 9,
     "metadata": {},
     "output_type": "execute_result"
    }
   ],
   "source": [
    "AtomEncDi.shape"
   ]
  },
  {
   "cell_type": "code",
   "execution_count": 10,
   "metadata": {},
   "outputs": [
    {
     "data": {
      "text/plain": [
       "array([[ 6., 10.,  2.,  2.,  0.,  0.],\n",
       "       [ 6., 10.,  2.,  2.,  0.,  0.],\n",
       "       [ 6., 10.,  2.,  2.,  0.,  0.],\n",
       "       [ 5.,  8.,  2.,  2.,  0.,  0.],\n",
       "       [ 6., 10.,  2.,  2.,  0.,  0.],\n",
       "       [ 5.,  8.,  2.,  3.,  0.,  0.],\n",
       "       [ 6., 10.,  2.,  2.,  0.,  0.],\n",
       "       [ 8., 12.,  2.,  2.,  0.,  0.],\n",
       "       [ 6., 10.,  2.,  2.,  0.,  0.],\n",
       "       [ 5.,  8.,  2.,  2.,  0.,  0.],\n",
       "       [ 8., 12.,  2.,  2.,  0.,  0.],\n",
       "       [ 5.,  8.,  2.,  3.,  0.,  0.],\n",
       "       [ 4.,  6.,  2.,  2.,  0.,  0.],\n",
       "       [ 8., 12.,  2.,  2.,  0.,  0.],\n",
       "       [ 5.,  8.,  2.,  3.,  0.,  0.],\n",
       "       [ 8., 13.,  3.,  4.,  0.,  0.],\n",
       "       [ 7., 12.,  2.,  2.,  0.,  0.],\n",
       "       [12., 22.,  2.,  2.,  0.,  0.],\n",
       "       [ 6.,  8.,  2.,  4.,  0.,  0.],\n",
       "       [ 6., 12.,  4.,  1.,  0.,  0.],\n",
       "       [ 0.,  0.,  0.,  0.,  0.,  0.],\n",
       "       [ 0.,  0.,  0.,  0.,  0.,  0.],\n",
       "       [ 0.,  0.,  0.,  0.,  0.,  0.],\n",
       "       [ 0.,  0.,  0.,  0.,  0.,  0.],\n",
       "       [ 0.,  0.,  0.,  0.,  0.,  0.],\n",
       "       [ 0.,  0.,  0.,  0.,  0.,  0.],\n",
       "       [ 0.,  0.,  0.,  0.,  0.,  0.],\n",
       "       [ 0.,  0.,  0.,  0.,  0.,  0.],\n",
       "       [ 0.,  0.,  0.,  0.,  0.,  0.],\n",
       "       [ 0.,  0.,  0.,  0.,  0.,  0.]], dtype=float32)"
      ]
     },
     "execution_count": 10,
     "metadata": {},
     "output_type": "execute_result"
    }
   ],
   "source": [
    "# 1st peptide, all DiAA, all features\n",
    "AtomEncDi[1,:,:]"
   ]
  },
  {
   "cell_type": "markdown",
   "metadata": {},
   "source": [
    "# Global features"
   ]
  },
  {
   "cell_type": "code",
   "execution_count": 11,
   "metadata": {},
   "outputs": [],
   "source": [
    "Globals = pickle.load(open('/home/robbe/DeepLCCS/data_clean/X_train_GlobalFeatures-DeepLC-correct-set.pickle', 'rb'))"
   ]
  },
  {
   "cell_type": "code",
   "execution_count": 12,
   "metadata": {},
   "outputs": [
    {
     "data": {
      "text/plain": [
       "(533669, 60)"
      ]
     },
     "execution_count": 12,
     "metadata": {},
     "output_type": "execute_result"
    }
   ],
   "source": [
    "Globals.shape"
   ]
  },
  {
   "cell_type": "code",
   "execution_count": 13,
   "metadata": {},
   "outputs": [
    {
     "data": {
      "text/plain": [
       "array([1.28000000e+02, 2.09000000e+02, 4.30000000e+01, 4.60000000e+01,\n",
       "       0.00000000e+00, 0.00000000e+00, 3.90000000e+01, 0.00000000e+00,\n",
       "       0.00000000e+00, 2.56410256e-02, 2.56410256e-02, 3.00000000e+00,\n",
       "       3.00000000e+00, 5.00000000e+00, 1.00000000e+00, 1.00000000e+00,\n",
       "       0.00000000e+00, 0.00000000e+00, 3.00000000e+00, 5.00000000e+00,\n",
       "       1.00000000e+00, 1.00000000e+00, 0.00000000e+00, 0.00000000e+00,\n",
       "       3.00000000e+00, 5.00000000e+00, 1.00000000e+00, 1.00000000e+00,\n",
       "       0.00000000e+00, 0.00000000e+00, 3.00000000e+00, 5.00000000e+00,\n",
       "       1.00000000e+00, 1.00000000e+00, 0.00000000e+00, 0.00000000e+00,\n",
       "       6.00000000e+00, 1.10000000e+01, 1.00000000e+00, 1.00000000e+00,\n",
       "       0.00000000e+00, 0.00000000e+00, 2.00000000e+00, 3.00000000e+00,\n",
       "       1.00000000e+00, 1.00000000e+00, 0.00000000e+00, 0.00000000e+00,\n",
       "       4.00000000e+00, 5.00000000e+00, 1.00000000e+00, 3.00000000e+00,\n",
       "       0.00000000e+00, 0.00000000e+00, 6.00000000e+00, 1.20000000e+01,\n",
       "       4.00000000e+00, 1.00000000e+00, 0.00000000e+00, 0.00000000e+00])"
      ]
     },
     "execution_count": 13,
     "metadata": {},
     "output_type": "execute_result"
    }
   ],
   "source": [
    "Globals[1,:] # 1st peptide, all global features\n",
    "# C_comp, H_comp, N_comp, O_comp,\n",
    "#S_comp, P_comp, length, Rel_H presence,\n",
    "#Rel_Bulky presence, Rel_Acid presence, Rel_KR_presence, 6 x 8 atom counts of first four and last four AA"
   ]
  },
  {
   "cell_type": "markdown",
   "metadata": {},
   "source": [
    "# One Hot"
   ]
  },
  {
   "cell_type": "code",
   "execution_count": 15,
   "metadata": {},
   "outputs": [],
   "source": [
    "OneHot = pickle.load(open('/home/robbe/DeepLCCS/data_clean/X_train_OneHot-DeepLC-correct-set.pickle', 'rb'))"
   ]
  },
  {
   "cell_type": "code",
   "execution_count": 16,
   "metadata": {},
   "outputs": [
    {
     "data": {
      "text/plain": [
       "(533669, 60, 20)"
      ]
     },
     "execution_count": 16,
     "metadata": {},
     "output_type": "execute_result"
    }
   ],
   "source": [
    "OneHot.shape"
   ]
  },
  {
   "cell_type": "code",
   "execution_count": 17,
   "metadata": {},
   "outputs": [
    {
     "data": {
      "text/plain": [
       "array([[0., 0., 0., ..., 0., 0., 0.],\n",
       "       [0., 0., 0., ..., 0., 0., 0.],\n",
       "       [0., 0., 0., ..., 0., 0., 0.],\n",
       "       ...,\n",
       "       [0., 0., 0., ..., 0., 0., 0.],\n",
       "       [0., 0., 0., ..., 0., 0., 0.],\n",
       "       [0., 0., 0., ..., 0., 0., 0.]], dtype=float16)"
      ]
     },
     "execution_count": 17,
     "metadata": {},
     "output_type": "execute_result"
    }
   ],
   "source": [
    "OneHot[1,:,:] # 1st peptide, all AA, all features"
   ]
  },
  {
   "cell_type": "markdown",
   "metadata": {},
   "source": [
    "# Test set"
   ]
  },
  {
   "cell_type": "code",
   "execution_count": 19,
   "metadata": {},
   "outputs": [],
   "source": [
    "OneHotTest = pickle.load(open('/home/robbe/DeepLCCS/data_clean/X_test_OneHot-DeepLC-correct-set.pickle', 'rb'))"
   ]
  },
  {
   "cell_type": "code",
   "execution_count": 20,
   "metadata": {},
   "outputs": [
    {
     "data": {
      "text/plain": [
       "(185248, 60, 20)"
      ]
     },
     "execution_count": 20,
     "metadata": {},
     "output_type": "execute_result"
    }
   ],
   "source": [
    "OneHotTest.shape"
   ]
  }
 ],
 "metadata": {
  "kernelspec": {
   "display_name": ".DeepLCCS",
   "language": "python",
   "name": "python3"
  },
  "language_info": {
   "codemirror_mode": {
    "name": "ipython",
    "version": 3
   },
   "file_extension": ".py",
   "mimetype": "text/x-python",
   "name": "python",
   "nbconvert_exporter": "python",
   "pygments_lexer": "ipython3",
   "version": "3.10.13"
  }
 },
 "nbformat": 4,
 "nbformat_minor": 2
}
